{
  "nbformat": 4,
  "nbformat_minor": 0,
  "metadata": {
    "colab": {
      "provenance": [],
      "authorship_tag": "ABX9TyMsgqo7DgKqdsfMmYWdvdFZ",
      "include_colab_link": true
    },
    "kernelspec": {
      "name": "python3",
      "display_name": "Python 3"
    },
    "language_info": {
      "name": "python"
    }
  },
  "cells": [
    {
      "cell_type": "markdown",
      "metadata": {
        "id": "view-in-github",
        "colab_type": "text"
      },
      "source": [
        "<a href=\"https://colab.research.google.com/github/syedtazyeen/DNA_SC/blob/main/DNASC.ipynb\" target=\"_parent\"><img src=\"https://colab.research.google.com/assets/colab-badge.svg\" alt=\"Open In Colab\"/></a>"
      ]
    },
    {
      "cell_type": "code",
      "source": [
        "# Run the model\n",
        "!python src/main.py"
      ],
      "metadata": {
        "colab": {
          "base_uri": "https://localhost:8080/"
        },
        "id": "WqudDdGpWIhr",
        "outputId": "cdb1f5bf-9d18-4ded-f694-26a0275a6980"
      },
      "execution_count": 32,
      "outputs": [
        {
          "output_type": "stream",
          "name": "stdout",
          "text": [
            "0.9828767123287672\n",
            "                  sequence  class\n",
            "0         ATGCGATCGATCGATC      6\n",
            "1          ATGATGATGATGATG      6\n",
            "2            ATGCCCCAACTAA      4\n",
            "3  TTCGCTTCATTCGCTGCCCCCAC      4\n",
            "4       CAGCTGGCTCCCAGGGTT      1\n"
          ]
        }
      ]
    }
  ]
}